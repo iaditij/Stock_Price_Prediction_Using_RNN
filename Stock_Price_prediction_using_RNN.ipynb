{
  "nbformat": 4,
  "nbformat_minor": 0,
  "metadata": {
    "colab": {
      "name": "Stock_Price_prediction_using_RNN.ipynb",
      "provenance": [],
      "machine_shape": "hm"
    },
    "kernelspec": {
      "name": "python3",
      "display_name": "Python 3"
    },
    "accelerator": "TPU"
  },
  "cells": [
    {
      "cell_type": "code",
      "metadata": {
        "id": "JMDwTRx5NQtN",
        "colab_type": "code",
        "colab": {
          "base_uri": "https://localhost:8080/",
          "height": 745
        },
        "outputId": "b0fb9039-6653-4cdd-a77d-3807e853f778"
      },
      "source": [
        "%tensorflow_version 2.x\n",
        "import tensorflow as tf\n",
        "print(\"Tensorflow version \" + tf.__version__)\n",
        "\n",
        "try:\n",
        "  tpu = tf.distribute.cluster_resolver.TPUClusterResolver()  # TPU detection\n",
        "  print('Running on TPU ', tpu.cluster_spec().as_dict()['worker'])\n",
        "except ValueError:\n",
        "  raise BaseException('ERROR: Not connected to a TPU runtime; please see the previous cell in this notebook for instructions!')\n",
        "\n",
        "tf.config.experimental_connect_to_cluster(tpu)\n",
        "tf.tpu.experimental.initialize_tpu_system(tpu)\n",
        "tpu_strategy = tf.distribute.experimental.TPUStrategy(tpu)"
      ],
      "execution_count": 1,
      "outputs": [
        {
          "output_type": "stream",
          "text": [
            "Tensorflow version 2.2.0\n",
            "Running on TPU  ['10.48.147.210:8470']\n",
            "INFO:tensorflow:Initializing the TPU system: grpc://10.48.147.210:8470\n"
          ],
          "name": "stdout"
        },
        {
          "output_type": "stream",
          "text": [
            "INFO:tensorflow:Initializing the TPU system: grpc://10.48.147.210:8470\n"
          ],
          "name": "stderr"
        },
        {
          "output_type": "stream",
          "text": [
            "INFO:tensorflow:Clearing out eager caches\n"
          ],
          "name": "stdout"
        },
        {
          "output_type": "stream",
          "text": [
            "INFO:tensorflow:Clearing out eager caches\n"
          ],
          "name": "stderr"
        },
        {
          "output_type": "stream",
          "text": [
            "INFO:tensorflow:Finished initializing TPU system.\n"
          ],
          "name": "stdout"
        },
        {
          "output_type": "stream",
          "text": [
            "INFO:tensorflow:Finished initializing TPU system.\n"
          ],
          "name": "stderr"
        },
        {
          "output_type": "stream",
          "text": [
            "INFO:tensorflow:Found TPU system:\n"
          ],
          "name": "stdout"
        },
        {
          "output_type": "stream",
          "text": [
            "INFO:tensorflow:Found TPU system:\n"
          ],
          "name": "stderr"
        },
        {
          "output_type": "stream",
          "text": [
            "INFO:tensorflow:*** Num TPU Cores: 8\n"
          ],
          "name": "stdout"
        },
        {
          "output_type": "stream",
          "text": [
            "INFO:tensorflow:*** Num TPU Cores: 8\n"
          ],
          "name": "stderr"
        },
        {
          "output_type": "stream",
          "text": [
            "INFO:tensorflow:*** Num TPU Workers: 1\n"
          ],
          "name": "stdout"
        },
        {
          "output_type": "stream",
          "text": [
            "INFO:tensorflow:*** Num TPU Workers: 1\n"
          ],
          "name": "stderr"
        },
        {
          "output_type": "stream",
          "text": [
            "INFO:tensorflow:*** Num TPU Cores Per Worker: 8\n"
          ],
          "name": "stdout"
        },
        {
          "output_type": "stream",
          "text": [
            "INFO:tensorflow:*** Num TPU Cores Per Worker: 8\n"
          ],
          "name": "stderr"
        },
        {
          "output_type": "stream",
          "text": [
            "INFO:tensorflow:*** Available Device: _DeviceAttributes(/job:localhost/replica:0/task:0/device:CPU:0, CPU, 0, 0)\n"
          ],
          "name": "stdout"
        },
        {
          "output_type": "stream",
          "text": [
            "INFO:tensorflow:*** Available Device: _DeviceAttributes(/job:localhost/replica:0/task:0/device:CPU:0, CPU, 0, 0)\n"
          ],
          "name": "stderr"
        },
        {
          "output_type": "stream",
          "text": [
            "INFO:tensorflow:*** Available Device: _DeviceAttributes(/job:localhost/replica:0/task:0/device:XLA_CPU:0, XLA_CPU, 0, 0)\n"
          ],
          "name": "stdout"
        },
        {
          "output_type": "stream",
          "text": [
            "INFO:tensorflow:*** Available Device: _DeviceAttributes(/job:localhost/replica:0/task:0/device:XLA_CPU:0, XLA_CPU, 0, 0)\n"
          ],
          "name": "stderr"
        },
        {
          "output_type": "stream",
          "text": [
            "INFO:tensorflow:*** Available Device: _DeviceAttributes(/job:worker/replica:0/task:0/device:CPU:0, CPU, 0, 0)\n"
          ],
          "name": "stdout"
        },
        {
          "output_type": "stream",
          "text": [
            "INFO:tensorflow:*** Available Device: _DeviceAttributes(/job:worker/replica:0/task:0/device:CPU:0, CPU, 0, 0)\n"
          ],
          "name": "stderr"
        },
        {
          "output_type": "stream",
          "text": [
            "INFO:tensorflow:*** Available Device: _DeviceAttributes(/job:worker/replica:0/task:0/device:TPU:0, TPU, 0, 0)\n"
          ],
          "name": "stdout"
        },
        {
          "output_type": "stream",
          "text": [
            "INFO:tensorflow:*** Available Device: _DeviceAttributes(/job:worker/replica:0/task:0/device:TPU:0, TPU, 0, 0)\n"
          ],
          "name": "stderr"
        },
        {
          "output_type": "stream",
          "text": [
            "INFO:tensorflow:*** Available Device: _DeviceAttributes(/job:worker/replica:0/task:0/device:TPU:1, TPU, 0, 0)\n"
          ],
          "name": "stdout"
        },
        {
          "output_type": "stream",
          "text": [
            "INFO:tensorflow:*** Available Device: _DeviceAttributes(/job:worker/replica:0/task:0/device:TPU:1, TPU, 0, 0)\n"
          ],
          "name": "stderr"
        },
        {
          "output_type": "stream",
          "text": [
            "INFO:tensorflow:*** Available Device: _DeviceAttributes(/job:worker/replica:0/task:0/device:TPU:2, TPU, 0, 0)\n"
          ],
          "name": "stdout"
        },
        {
          "output_type": "stream",
          "text": [
            "INFO:tensorflow:*** Available Device: _DeviceAttributes(/job:worker/replica:0/task:0/device:TPU:2, TPU, 0, 0)\n"
          ],
          "name": "stderr"
        },
        {
          "output_type": "stream",
          "text": [
            "INFO:tensorflow:*** Available Device: _DeviceAttributes(/job:worker/replica:0/task:0/device:TPU:3, TPU, 0, 0)\n"
          ],
          "name": "stdout"
        },
        {
          "output_type": "stream",
          "text": [
            "INFO:tensorflow:*** Available Device: _DeviceAttributes(/job:worker/replica:0/task:0/device:TPU:3, TPU, 0, 0)\n"
          ],
          "name": "stderr"
        },
        {
          "output_type": "stream",
          "text": [
            "INFO:tensorflow:*** Available Device: _DeviceAttributes(/job:worker/replica:0/task:0/device:TPU:4, TPU, 0, 0)\n"
          ],
          "name": "stdout"
        },
        {
          "output_type": "stream",
          "text": [
            "INFO:tensorflow:*** Available Device: _DeviceAttributes(/job:worker/replica:0/task:0/device:TPU:4, TPU, 0, 0)\n"
          ],
          "name": "stderr"
        },
        {
          "output_type": "stream",
          "text": [
            "INFO:tensorflow:*** Available Device: _DeviceAttributes(/job:worker/replica:0/task:0/device:TPU:5, TPU, 0, 0)\n"
          ],
          "name": "stdout"
        },
        {
          "output_type": "stream",
          "text": [
            "INFO:tensorflow:*** Available Device: _DeviceAttributes(/job:worker/replica:0/task:0/device:TPU:5, TPU, 0, 0)\n"
          ],
          "name": "stderr"
        },
        {
          "output_type": "stream",
          "text": [
            "INFO:tensorflow:*** Available Device: _DeviceAttributes(/job:worker/replica:0/task:0/device:TPU:6, TPU, 0, 0)\n"
          ],
          "name": "stdout"
        },
        {
          "output_type": "stream",
          "text": [
            "INFO:tensorflow:*** Available Device: _DeviceAttributes(/job:worker/replica:0/task:0/device:TPU:6, TPU, 0, 0)\n"
          ],
          "name": "stderr"
        },
        {
          "output_type": "stream",
          "text": [
            "INFO:tensorflow:*** Available Device: _DeviceAttributes(/job:worker/replica:0/task:0/device:TPU:7, TPU, 0, 0)\n"
          ],
          "name": "stdout"
        },
        {
          "output_type": "stream",
          "text": [
            "INFO:tensorflow:*** Available Device: _DeviceAttributes(/job:worker/replica:0/task:0/device:TPU:7, TPU, 0, 0)\n"
          ],
          "name": "stderr"
        },
        {
          "output_type": "stream",
          "text": [
            "INFO:tensorflow:*** Available Device: _DeviceAttributes(/job:worker/replica:0/task:0/device:TPU_SYSTEM:0, TPU_SYSTEM, 0, 0)\n"
          ],
          "name": "stdout"
        },
        {
          "output_type": "stream",
          "text": [
            "INFO:tensorflow:*** Available Device: _DeviceAttributes(/job:worker/replica:0/task:0/device:TPU_SYSTEM:0, TPU_SYSTEM, 0, 0)\n"
          ],
          "name": "stderr"
        },
        {
          "output_type": "stream",
          "text": [
            "INFO:tensorflow:*** Available Device: _DeviceAttributes(/job:worker/replica:0/task:0/device:XLA_CPU:0, XLA_CPU, 0, 0)\n"
          ],
          "name": "stdout"
        },
        {
          "output_type": "stream",
          "text": [
            "INFO:tensorflow:*** Available Device: _DeviceAttributes(/job:worker/replica:0/task:0/device:XLA_CPU:0, XLA_CPU, 0, 0)\n"
          ],
          "name": "stderr"
        }
      ]
    },
    {
      "cell_type": "markdown",
      "metadata": {
        "id": "C39XLJpaN968",
        "colab_type": "text"
      },
      "source": [
        "# Recurrent Neural Network\n",
        "\n",
        "\n",
        "\n",
        "# Part 1 - Data Preprocessing\n"
      ]
    },
    {
      "cell_type": "code",
      "metadata": {
        "id": "NQ5irP73SEzK",
        "colab_type": "code",
        "colab": {}
      },
      "source": [
        "# Importing the libraries\n",
        "import numpy as np\n",
        "import matplotlib.pyplot as plt\n",
        "import pandas as pd"
      ],
      "execution_count": 0,
      "outputs": []
    },
    {
      "cell_type": "code",
      "metadata": {
        "id": "YL8XxqhlkMH7",
        "colab_type": "code",
        "colab": {
          "base_uri": "https://localhost:8080/",
          "height": 124
        },
        "outputId": "ffc98fb0-5c87-45b8-82e0-82df3e22af4c"
      },
      "source": [
        "from google.colab import drive\n",
        "drive.mount('/content/drive')"
      ],
      "execution_count": 3,
      "outputs": [
        {
          "output_type": "stream",
          "text": [
            "Go to this URL in a browser: https://accounts.google.com/o/oauth2/auth?client_id=947318989803-6bn6qk8qdgf4n4g3pfee6491hc0brc4i.apps.googleusercontent.com&redirect_uri=urn%3aietf%3awg%3aoauth%3a2.0%3aoob&response_type=code&scope=email%20https%3a%2f%2fwww.googleapis.com%2fauth%2fdocs.test%20https%3a%2f%2fwww.googleapis.com%2fauth%2fdrive%20https%3a%2f%2fwww.googleapis.com%2fauth%2fdrive.photos.readonly%20https%3a%2f%2fwww.googleapis.com%2fauth%2fpeopleapi.readonly\n",
            "\n",
            "Enter your authorization code:\n",
            "··········\n",
            "Mounted at /content/drive\n"
          ],
          "name": "stdout"
        }
      ]
    },
    {
      "cell_type": "code",
      "metadata": {
        "id": "Pxsk8qR9k-9w",
        "colab_type": "code",
        "colab": {}
      },
      "source": [
        "# Importing the training set\n",
        "dataset_train = pd.read_csv('/content/drive/My Drive/Google_Stock_Price_Train.csv')\n",
        "training_set = dataset_train.iloc[:, 1:2].values"
      ],
      "execution_count": 0,
      "outputs": []
    },
    {
      "cell_type": "code",
      "metadata": {
        "id": "izKeppgLmOve",
        "colab_type": "code",
        "colab": {}
      },
      "source": [
        "# Feature Scaling\n",
        "from sklearn.preprocessing import MinMaxScaler\n",
        "sc = MinMaxScaler(feature_range = (0, 1))\n",
        "training_set_scaled = sc.fit_transform(training_set)"
      ],
      "execution_count": 0,
      "outputs": []
    },
    {
      "cell_type": "code",
      "metadata": {
        "id": "eY-GYdXtmSxW",
        "colab_type": "code",
        "colab": {}
      },
      "source": [
        "# Creating a data structure with 60 timesteps and 1 output\n",
        "X_train = []\n",
        "y_train = []\n",
        "for i in range(60, 1258):\n",
        "    X_train.append(training_set_scaled[i-60:i, 0])\n",
        "    y_train.append(training_set_scaled[i, 0])\n",
        "X_train, y_train = np.array(X_train), np.array(y_train)"
      ],
      "execution_count": 0,
      "outputs": []
    },
    {
      "cell_type": "code",
      "metadata": {
        "id": "sS15Qj8pmYmY",
        "colab_type": "code",
        "colab": {}
      },
      "source": [
        "# Reshaping\n",
        "X_train = np.reshape(X_train, (X_train.shape[0], X_train.shape[1], 1))\n"
      ],
      "execution_count": 0,
      "outputs": []
    },
    {
      "cell_type": "markdown",
      "metadata": {
        "id": "O9rCcQEvmb50",
        "colab_type": "text"
      },
      "source": [
        "## Part 2 - Building the RNN"
      ]
    },
    {
      "cell_type": "code",
      "metadata": {
        "id": "X97-HSsRmg_u",
        "colab_type": "code",
        "colab": {
          "base_uri": "https://localhost:8080/",
          "height": 35
        },
        "outputId": "08af99dc-7c6b-49b0-98a2-aa1d2e3e5ea5"
      },
      "source": [
        "# Importing the Keras libraries and packages\n",
        "from keras.models import Sequential\n",
        "from keras.layers import Dense\n",
        "from keras.layers import LSTM\n",
        "from keras.layers import Dropout"
      ],
      "execution_count": 9,
      "outputs": [
        {
          "output_type": "stream",
          "text": [
            "Using TensorFlow backend.\n"
          ],
          "name": "stderr"
        }
      ]
    },
    {
      "cell_type": "code",
      "metadata": {
        "id": "qP0Nxz90mkow",
        "colab_type": "code",
        "colab": {}
      },
      "source": [
        "# Initialising the RNN\n",
        "regressor = Sequential()"
      ],
      "execution_count": 0,
      "outputs": []
    },
    {
      "cell_type": "code",
      "metadata": {
        "id": "cH3LiU5lmngQ",
        "colab_type": "code",
        "colab": {}
      },
      "source": [
        "# Adding the first LSTM layer and some Dropout regularisation\n",
        "regressor.add(LSTM(units = 50, return_sequences = True, input_shape = (X_train.shape[1], 1)))\n",
        "regressor.add(Dropout(0.2))"
      ],
      "execution_count": 0,
      "outputs": []
    },
    {
      "cell_type": "code",
      "metadata": {
        "id": "nLkKjZymmrTm",
        "colab_type": "code",
        "colab": {}
      },
      "source": [
        "# Adding a second LSTM layer and some Dropout regularisation\n",
        "regressor.add(LSTM(units = 50, return_sequences = True))\n",
        "regressor.add(Dropout(0.2))"
      ],
      "execution_count": 0,
      "outputs": []
    },
    {
      "cell_type": "code",
      "metadata": {
        "id": "R0VQWXzQmuge",
        "colab_type": "code",
        "colab": {}
      },
      "source": [
        "# Adding a third LSTM layer and some Dropout regularisation\n",
        "regressor.add(LSTM(units = 50, return_sequences = True))\n",
        "regressor.add(Dropout(0.2))"
      ],
      "execution_count": 0,
      "outputs": []
    },
    {
      "cell_type": "code",
      "metadata": {
        "id": "8W6eJdiKmx6b",
        "colab_type": "code",
        "colab": {}
      },
      "source": [
        "# Adding a fourth LSTM layer and some Dropout regularisation\n",
        "regressor.add(LSTM(units = 50))\n",
        "regressor.add(Dropout(0.2))"
      ],
      "execution_count": 0,
      "outputs": []
    },
    {
      "cell_type": "code",
      "metadata": {
        "id": "M5XGu2Pmm0jH",
        "colab_type": "code",
        "colab": {}
      },
      "source": [
        "# Adding the output layer\n",
        "regressor.add(Dense(units = 1))\n"
      ],
      "execution_count": 0,
      "outputs": []
    },
    {
      "cell_type": "code",
      "metadata": {
        "id": "sL1rJLjzm3zx",
        "colab_type": "code",
        "colab": {}
      },
      "source": [
        "# Compiling the RNN\n",
        "regressor.compile(optimizer = 'adam', loss = 'mean_squared_error')"
      ],
      "execution_count": 0,
      "outputs": []
    },
    {
      "cell_type": "code",
      "metadata": {
        "id": "8I_rOYiHm7Zm",
        "colab_type": "code",
        "colab": {
          "base_uri": "https://localhost:8080/",
          "height": 1000
        },
        "outputId": "a7cb5d1e-86b1-41a3-9cd0-2fcfdfd7a14a"
      },
      "source": [
        "# Fitting the RNN to the Training set\n",
        "regressor.fit(X_train, y_train, epochs = 100, batch_size = 32)"
      ],
      "execution_count": 17,
      "outputs": [
        {
          "output_type": "stream",
          "text": [
            "Epoch 1/100\n",
            "1198/1198 [==============================] - 4s 4ms/step - loss: 0.0461\n",
            "Epoch 2/100\n",
            "1198/1198 [==============================] - 3s 3ms/step - loss: 0.0070\n",
            "Epoch 3/100\n",
            "1198/1198 [==============================] - 3s 3ms/step - loss: 0.0052\n",
            "Epoch 4/100\n",
            "1198/1198 [==============================] - 3s 3ms/step - loss: 0.0057\n",
            "Epoch 5/100\n",
            "1198/1198 [==============================] - 3s 3ms/step - loss: 0.0051\n",
            "Epoch 6/100\n",
            "1198/1198 [==============================] - 3s 3ms/step - loss: 0.0049\n",
            "Epoch 7/100\n",
            "1198/1198 [==============================] - 3s 3ms/step - loss: 0.0047\n",
            "Epoch 8/100\n",
            "1198/1198 [==============================] - 4s 3ms/step - loss: 0.0044\n",
            "Epoch 9/100\n",
            "1198/1198 [==============================] - 4s 3ms/step - loss: 0.0046\n",
            "Epoch 10/100\n",
            "1198/1198 [==============================] - 4s 3ms/step - loss: 0.0051\n",
            "Epoch 11/100\n",
            "1198/1198 [==============================] - 4s 3ms/step - loss: 0.0048\n",
            "Epoch 12/100\n",
            "1198/1198 [==============================] - 4s 3ms/step - loss: 0.0048\n",
            "Epoch 13/100\n",
            "1198/1198 [==============================] - 4s 3ms/step - loss: 0.0043\n",
            "Epoch 14/100\n",
            "1198/1198 [==============================] - 4s 3ms/step - loss: 0.0042\n",
            "Epoch 15/100\n",
            "1198/1198 [==============================] - 4s 3ms/step - loss: 0.0035\n",
            "Epoch 16/100\n",
            "1198/1198 [==============================] - 4s 3ms/step - loss: 0.0037\n",
            "Epoch 17/100\n",
            "1198/1198 [==============================] - 4s 3ms/step - loss: 0.0033\n",
            "Epoch 18/100\n",
            "1198/1198 [==============================] - 4s 3ms/step - loss: 0.0038\n",
            "Epoch 19/100\n",
            "1198/1198 [==============================] - 4s 3ms/step - loss: 0.0037\n",
            "Epoch 20/100\n",
            "1198/1198 [==============================] - 4s 3ms/step - loss: 0.0034\n",
            "Epoch 21/100\n",
            "1198/1198 [==============================] - 4s 3ms/step - loss: 0.0035\n",
            "Epoch 22/100\n",
            "1198/1198 [==============================] - 4s 3ms/step - loss: 0.0033\n",
            "Epoch 23/100\n",
            "1198/1198 [==============================] - 4s 3ms/step - loss: 0.0032\n",
            "Epoch 24/100\n",
            "1198/1198 [==============================] - 4s 3ms/step - loss: 0.0034\n",
            "Epoch 25/100\n",
            "1198/1198 [==============================] - 4s 3ms/step - loss: 0.0030\n",
            "Epoch 26/100\n",
            "1198/1198 [==============================] - 4s 3ms/step - loss: 0.0032\n",
            "Epoch 27/100\n",
            "1198/1198 [==============================] - 4s 3ms/step - loss: 0.0035\n",
            "Epoch 28/100\n",
            "1198/1198 [==============================] - 4s 3ms/step - loss: 0.0031\n",
            "Epoch 29/100\n",
            "1198/1198 [==============================] - 4s 3ms/step - loss: 0.0027\n",
            "Epoch 30/100\n",
            "1198/1198 [==============================] - 4s 3ms/step - loss: 0.0030\n",
            "Epoch 31/100\n",
            "1198/1198 [==============================] - 4s 3ms/step - loss: 0.0027\n",
            "Epoch 32/100\n",
            "1198/1198 [==============================] - 4s 3ms/step - loss: 0.0031\n",
            "Epoch 33/100\n",
            "1198/1198 [==============================] - 4s 3ms/step - loss: 0.0033\n",
            "Epoch 34/100\n",
            "1198/1198 [==============================] - 4s 3ms/step - loss: 0.0030\n",
            "Epoch 35/100\n",
            "1198/1198 [==============================] - 4s 3ms/step - loss: 0.0029\n",
            "Epoch 36/100\n",
            "1198/1198 [==============================] - 4s 3ms/step - loss: 0.0028\n",
            "Epoch 37/100\n",
            "1198/1198 [==============================] - 4s 3ms/step - loss: 0.0027\n",
            "Epoch 38/100\n",
            "1198/1198 [==============================] - 3s 3ms/step - loss: 0.0031\n",
            "Epoch 39/100\n",
            "1198/1198 [==============================] - 3s 3ms/step - loss: 0.0027\n",
            "Epoch 40/100\n",
            "1198/1198 [==============================] - 4s 3ms/step - loss: 0.0029\n",
            "Epoch 41/100\n",
            "1198/1198 [==============================] - 4s 3ms/step - loss: 0.0027\n",
            "Epoch 42/100\n",
            "1198/1198 [==============================] - 4s 3ms/step - loss: 0.0023\n",
            "Epoch 43/100\n",
            "1198/1198 [==============================] - 4s 3ms/step - loss: 0.0024\n",
            "Epoch 44/100\n",
            "1198/1198 [==============================] - 4s 3ms/step - loss: 0.0025\n",
            "Epoch 45/100\n",
            "1198/1198 [==============================] - 4s 3ms/step - loss: 0.0023\n",
            "Epoch 46/100\n",
            "1198/1198 [==============================] - 4s 3ms/step - loss: 0.0026\n",
            "Epoch 47/100\n",
            "1198/1198 [==============================] - 4s 3ms/step - loss: 0.0026\n",
            "Epoch 48/100\n",
            "1198/1198 [==============================] - 4s 3ms/step - loss: 0.0026\n",
            "Epoch 49/100\n",
            "1198/1198 [==============================] - 4s 3ms/step - loss: 0.0025\n",
            "Epoch 50/100\n",
            "1198/1198 [==============================] - 4s 3ms/step - loss: 0.0026\n",
            "Epoch 51/100\n",
            "1198/1198 [==============================] - 4s 3ms/step - loss: 0.0025\n",
            "Epoch 52/100\n",
            "1198/1198 [==============================] - 4s 3ms/step - loss: 0.0024\n",
            "Epoch 53/100\n",
            "1198/1198 [==============================] - 4s 3ms/step - loss: 0.0021\n",
            "Epoch 54/100\n",
            "1198/1198 [==============================] - 4s 3ms/step - loss: 0.0023\n",
            "Epoch 55/100\n",
            "1198/1198 [==============================] - 4s 3ms/step - loss: 0.0025\n",
            "Epoch 56/100\n",
            "1198/1198 [==============================] - 4s 3ms/step - loss: 0.0027\n",
            "Epoch 57/100\n",
            "1198/1198 [==============================] - 4s 3ms/step - loss: 0.0023\n",
            "Epoch 58/100\n",
            "1198/1198 [==============================] - 4s 3ms/step - loss: 0.0021\n",
            "Epoch 59/100\n",
            "1198/1198 [==============================] - 4s 3ms/step - loss: 0.0022\n",
            "Epoch 60/100\n",
            "1198/1198 [==============================] - 4s 3ms/step - loss: 0.0021\n",
            "Epoch 61/100\n",
            "1198/1198 [==============================] - 4s 3ms/step - loss: 0.0023\n",
            "Epoch 62/100\n",
            "1198/1198 [==============================] - 4s 3ms/step - loss: 0.0019\n",
            "Epoch 63/100\n",
            "1198/1198 [==============================] - 4s 3ms/step - loss: 0.0019\n",
            "Epoch 64/100\n",
            "1198/1198 [==============================] - 4s 3ms/step - loss: 0.0022\n",
            "Epoch 65/100\n",
            "1198/1198 [==============================] - 4s 3ms/step - loss: 0.0018\n",
            "Epoch 66/100\n",
            "1198/1198 [==============================] - 4s 3ms/step - loss: 0.0018\n",
            "Epoch 67/100\n",
            "1198/1198 [==============================] - 4s 3ms/step - loss: 0.0019\n",
            "Epoch 68/100\n",
            "1198/1198 [==============================] - 4s 3ms/step - loss: 0.0019\n",
            "Epoch 69/100\n",
            "1198/1198 [==============================] - 4s 3ms/step - loss: 0.0018\n",
            "Epoch 70/100\n",
            "1198/1198 [==============================] - 4s 3ms/step - loss: 0.0018\n",
            "Epoch 71/100\n",
            "1198/1198 [==============================] - 4s 3ms/step - loss: 0.0018\n",
            "Epoch 72/100\n",
            "1198/1198 [==============================] - 4s 3ms/step - loss: 0.0018\n",
            "Epoch 73/100\n",
            "1198/1198 [==============================] - 4s 3ms/step - loss: 0.0019\n",
            "Epoch 74/100\n",
            "1198/1198 [==============================] - 4s 3ms/step - loss: 0.0021\n",
            "Epoch 75/100\n",
            "1198/1198 [==============================] - 4s 3ms/step - loss: 0.0018\n",
            "Epoch 76/100\n",
            "1198/1198 [==============================] - 3s 3ms/step - loss: 0.0015\n",
            "Epoch 77/100\n",
            "1198/1198 [==============================] - 3s 3ms/step - loss: 0.0019\n",
            "Epoch 78/100\n",
            "1198/1198 [==============================] - 3s 3ms/step - loss: 0.0017\n",
            "Epoch 79/100\n",
            "1198/1198 [==============================] - 3s 3ms/step - loss: 0.0017\n",
            "Epoch 80/100\n",
            "1198/1198 [==============================] - 3s 3ms/step - loss: 0.0017\n",
            "Epoch 81/100\n",
            "1198/1198 [==============================] - 4s 3ms/step - loss: 0.0019\n",
            "Epoch 82/100\n",
            "1198/1198 [==============================] - 3s 3ms/step - loss: 0.0017\n",
            "Epoch 83/100\n",
            "1198/1198 [==============================] - 3s 3ms/step - loss: 0.0018\n",
            "Epoch 84/100\n",
            "1198/1198 [==============================] - 4s 3ms/step - loss: 0.0017\n",
            "Epoch 85/100\n",
            "1198/1198 [==============================] - 4s 3ms/step - loss: 0.0017\n",
            "Epoch 86/100\n",
            "1198/1198 [==============================] - 4s 3ms/step - loss: 0.0017\n",
            "Epoch 87/100\n",
            "1198/1198 [==============================] - 4s 3ms/step - loss: 0.0020\n",
            "Epoch 88/100\n",
            "1198/1198 [==============================] - 4s 3ms/step - loss: 0.0018\n",
            "Epoch 89/100\n",
            "1198/1198 [==============================] - 4s 3ms/step - loss: 0.0015\n",
            "Epoch 90/100\n",
            "1198/1198 [==============================] - 4s 3ms/step - loss: 0.0016\n",
            "Epoch 91/100\n",
            "1198/1198 [==============================] - 4s 3ms/step - loss: 0.0015\n",
            "Epoch 92/100\n",
            "1198/1198 [==============================] - 4s 3ms/step - loss: 0.0014\n",
            "Epoch 93/100\n",
            "1198/1198 [==============================] - 4s 3ms/step - loss: 0.0014\n",
            "Epoch 94/100\n",
            "1198/1198 [==============================] - 4s 3ms/step - loss: 0.0016\n",
            "Epoch 95/100\n",
            "1198/1198 [==============================] - 4s 3ms/step - loss: 0.0016\n",
            "Epoch 96/100\n",
            "1198/1198 [==============================] - 4s 3ms/step - loss: 0.0016\n",
            "Epoch 97/100\n",
            "1198/1198 [==============================] - 4s 3ms/step - loss: 0.0014\n",
            "Epoch 98/100\n",
            "1198/1198 [==============================] - 4s 3ms/step - loss: 0.0014\n",
            "Epoch 99/100\n",
            "1198/1198 [==============================] - 4s 3ms/step - loss: 0.0015\n",
            "Epoch 100/100\n",
            "1198/1198 [==============================] - 4s 3ms/step - loss: 0.0013\n"
          ],
          "name": "stdout"
        },
        {
          "output_type": "execute_result",
          "data": {
            "text/plain": [
              "<keras.callbacks.callbacks.History at 0x7f16abeae0b8>"
            ]
          },
          "metadata": {
            "tags": []
          },
          "execution_count": 17
        }
      ]
    },
    {
      "cell_type": "markdown",
      "metadata": {
        "id": "73PCGRZVorSh",
        "colab_type": "text"
      },
      "source": [
        "# Part 3 - Making the predictions and visualising the results"
      ]
    },
    {
      "cell_type": "code",
      "metadata": {
        "id": "pA-T7BYMooqa",
        "colab_type": "code",
        "colab": {}
      },
      "source": [
        "# Getting the real stock price of 2017\n",
        "dataset_test = pd.read_csv('/content/drive/My Drive/Google_Stock_Price_Test.csv')\n",
        "real_stock_price = dataset_test.iloc[:, 1:2].values"
      ],
      "execution_count": 0,
      "outputs": []
    },
    {
      "cell_type": "code",
      "metadata": {
        "id": "WFFtQ4yNo4Q8",
        "colab_type": "code",
        "colab": {}
      },
      "source": [
        "# Getting the predicted stock price of 2017\n",
        "dataset_total = pd.concat((dataset_train['Open'], dataset_test['Open']), axis = 0)\n",
        "inputs = dataset_total[len(dataset_total) - len(dataset_test) - 60:].values\n",
        "inputs = inputs.reshape(-1,1)\n",
        "inputs = sc.transform(inputs)\n",
        "X_test = []\n",
        "for i in range(60, 80):\n",
        "    X_test.append(inputs[i-60:i, 0])\n",
        "X_test = np.array(X_test)\n",
        "X_test = np.reshape(X_test, (X_test.shape[0], X_test.shape[1], 1))\n",
        "predicted_stock_price = regressor.predict(X_test)\n",
        "predicted_stock_price = sc.inverse_transform(predicted_stock_price)\n"
      ],
      "execution_count": 0,
      "outputs": []
    },
    {
      "cell_type": "code",
      "metadata": {
        "id": "R6tOk_r4o8ne",
        "colab_type": "code",
        "colab": {
          "base_uri": "https://localhost:8080/",
          "height": 295
        },
        "outputId": "3561965b-2579-4f34-8764-182f8600dfa8"
      },
      "source": [
        "# Visualising the results\n",
        "plt.plot(real_stock_price, color = 'red', label = 'Real Google Stock Price')\n",
        "plt.plot(predicted_stock_price, color = 'blue', label = 'Predicted Google Stock Price')\n",
        "plt.title('Google Stock Price Prediction')\n",
        "plt.xlabel('Time')\n",
        "plt.ylabel('Google Stock Price')\n",
        "plt.legend()\n",
        "plt.show()"
      ],
      "execution_count": 21,
      "outputs": [
        {
          "output_type": "display_data",
          "data": {
            "image/png": "[encoded data removed]",
            "text/plain": [
              "<Figure size 432x288 with 1 Axes>"
            ]
          },
          "metadata": {
            "tags": [],
            "needs_background": "light"
          }
        }
      ]
    },
    {
      "cell_type": "code",
      "metadata": {
        "id": "QCJHeYvupReI",
        "colab_type": "code",
        "colab": {
          "base_uri": "https://localhost:8080/",
          "height": 35
        },
        "outputId": "af5ca32d-273d-4475-e562-d598ce2f37a6"
      },
      "source": [
        "from keras.models import load_model\n",
        "\n",
        "regressor.save(\"regressor.h5\")\n",
        "print(\"Saved model to disk\")"
      ],
      "execution_count": 26,
      "outputs": [
        {
          "output_type": "stream",
          "text": [
            "Saved model to disk\n"
          ],
          "name": "stdout"
        }
      ]
    }
  ]
}